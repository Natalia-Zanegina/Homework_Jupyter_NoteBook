{
 "cells": [
  {
   "cell_type": "markdown",
   "id": "1b076299",
   "metadata": {},
   "source": [
    "f(x) = -12x^4*sin(cos(x)) - 18x^3+5x^2 + 10x - 30\n",
    "\n",
    "1. Определить корни\n",
    "\n",
    "2. Найти интервалы, на которых функция возрастает\n",
    "\n",
    "3. Найти интервалы, на которых функция убывает\n",
    "\n",
    "4. Построить график\n",
    "\n",
    "5. Вычислить вершину\n",
    "\n",
    "6. Определить промежутки, на котором f > 0\n",
    "\n",
    "7. Определить промежутки, на котором f < 0"
   ]
  },
  {
   "cell_type": "code",
   "execution_count": null,
   "id": "71dd2a68",
   "metadata": {},
   "outputs": [],
   "source": [
    "import matplotlib.pyplot as plt\n",
    "import matplotlib as mpl\n",
    "import numpy as np\n",
    "from numpy import linspace, cos, sin"
   ]
  },
  {
   "cell_type": "markdown",
   "id": "f8f50921",
   "metadata": {},
   "source": [
    "Начнем с п.4: построим график, а точнее, два графика. Первый - для демонстрации поведения функции на большом диапазоне \n",
    "значений x:"
   ]
  },
  {
   "cell_type": "code",
   "execution_count": 25,
   "id": "75e19a3e",
   "metadata": {
    "scrolled": false
   },
   "outputs": [
    {
     "data": {
      "image/png": "[encoded data removed]",
      "text/plain": [
       "<Figure size 432x288 with 1 Axes>"
      ]
     },
     "metadata": {
      "needs_background": "light"
     },
     "output_type": "display_data"
    }
   ],
   "source": [
    "x = linspace(-1000, 1000, 10000)\n",
    "y = [-12*(i**4)*np.sin(np.cos(i)) - 18*(i**3)+5*(i**2) + 10*i - 30 for i in x]\n",
    "\n",
    "plt.plot(x,y)\n",
    "plt.show()"
   ]
  },
  {
   "cell_type": "markdown",
   "id": "570f06b0",
   "metadata": {},
   "source": [
    "Второй график - для x(-30,0). Для этого интервала выполним остальные пункты задания: "
   ]
  },
  {
   "cell_type": "code",
   "execution_count": 24,
   "id": "7565dbf2",
   "metadata": {},
   "outputs": [
    {
     "data": {
      "image/png": "[encoded data removed]",
      "text/plain": [
       "<Figure size 432x288 with 1 Axes>"
      ]
     },
     "metadata": {
      "needs_background": "light"
     },
     "output_type": "display_data"
    }
   ],
   "source": [
    "x = linspace(-30, 0, 1000)\n",
    "y = [-12*(i**4)*np.sin(np.cos(i)) - 18*(i**3)+5*(i**2) + 10*i - 30 for i in x]\n",
    "\n",
    "plt.plot(x,y)\n",
    "plt.show()"
   ]
  },
  {
   "cell_type": "markdown",
   "id": "fc1c31fd",
   "metadata": {},
   "source": [
    "п.1. Определим корни на интервале x(-30,0):"
   ]
  },
  {
   "cell_type": "code",
   "execution_count": 61,
   "id": "ad0ea64e",
   "metadata": {},
   "outputs": [
    {
     "name": "stdout",
     "output_type": "stream",
     "text": [
      "[-29.89577967205675, -26.646646158585888, -23.626197296429577, -20.34559413590408, -17.366552506881845, -14.028055991622466, -11.133769061029177, -7.650622284981447, -5.026865928118676, -1.3389666389621586]\n"
     ]
    }
   ],
   "source": [
    "from numpy import linspace, cos, sin\n",
    "\n",
    "def find_roots(f, a, b, n):\n",
    "    x = linspace(a, b, n)\n",
    "    y = f(x)\n",
    "    roots = []\n",
    "    for i in range(n-1):\n",
    "        if y[i]*y[i+1] < 0:\n",
    "            root = x[i] - (x[i+1] - x[i])/(y[i+1] - y[i])*y[i]\n",
    "            roots.append(root)\n",
    "    return roots\n",
    "\n",
    "roots = find_roots(\n",
    "        lambda x: -12*(x**4)*sin(cos(x)) - 18*(x**3)+5*(x**2) + 10*x - 30, -30, -1, 1000000)\n",
    "print(roots)"
   ]
  },
  {
   "cell_type": "code",
   "execution_count": 62,
   "id": "75bcfc75",
   "metadata": {},
   "outputs": [
    {
     "name": "stdout",
     "output_type": "stream",
     "text": [
      "0.00010684389081916379\n"
     ]
    }
   ],
   "source": [
    "# def res(x):\n",
    "#     return -12*(x**4)*sin(cos(x)) - 18*(x**3)+5*(x**2) + 10*x - 30\n",
    "# print(res(-29.89577967205675))"
   ]
  },
  {
   "cell_type": "markdown",
   "id": "a2f545cf",
   "metadata": {},
   "source": [
    "Для выполнения дальнейших действий на данном этапе логичнее перейти к п.5 - вычислить вершину (вершины) на интервале\n",
    "x(-30,0). Для этого создадим список значений функции на промежутках между найденными корнями с произвольно выбранным шагом.\n",
    "Попутно создаем список значений x, соответствующих экстремумам."
   ]
  },
  {
   "cell_type": "code",
   "execution_count": 101,
   "id": "75eb72ad",
   "metadata": {},
   "outputs": [
    {
     "name": "stdout",
     "output_type": "stream",
     "text": [
      "[6971674.545323174, -3809589.511049945, 2621309.337175519, -1189687.893184274, 719819.4879466607, -230228.660839591, 107675.85822519343, -13820.464099942265, 3111.346303050515]\n",
      "[-26.646646158585888, -25.365243611004423, -20.34559413590408, -19.141940952460754, -14.028055991622466, -12.946352795340125, -7.650622284981447, -6.829042011620377, -1.3389666389621586]\n"
     ]
    }
   ],
   "source": [
    "y_extremum = []\n",
    "x_extremum = []\n",
    "for i in range(len(roots)-1):\n",
    "    intervals = linspace(roots[i], roots[i+1], 100)\n",
    "    extremum = max([-12*(x**4)*sin(cos(x)) - 18*(x**3)+5*(x**2) + 10*x - 30 for x in intervals])\n",
    "    x_extr = np.argmax([-12*(x**4)*sin(cos(x)) - 18*(x**3)+5*(x**2) + 10*x - 30 for x in intervals])\n",
    "    \n",
    "    if extremum <= 0.01:\n",
    "        extremum = min([-12*(x**4)*sin(cos(x)) - 18*(x**3)+5*(x**2) + 10*x - 30 for x in intervals])\n",
    "       \n",
    "    x_extr = np.argmin([-12*(x**4)*sin(cos(x)) - 18*(x**3)+5*(x**2) + 10*x - 30 for x in intervals])\n",
    "    y_extremum.append(extremum)\n",
    "    x_extremum.append(intervals[x_extr])\n",
    "    \n",
    "print(y_extremum)\n",
    "print(x_extremum)"
   ]
  },
  {
   "cell_type": "markdown",
   "id": "e15b6232",
   "metadata": {},
   "source": [
    "п.2. Найти интервалы, на которых функция возрастает, в промежутке x(-30,0);\n",
    "\n",
    "п.3. Найти интервалы, на которых функция убывает, в промежутке x(-30,0):"
   ]
  },
  {
   "cell_type": "markdown",
   "id": "2deb8222",
   "metadata": {},
   "source": [
    "Cоотнося значения списков y_extremum и x_extremum, определяем искомые интервалы:\n",
    "y_extremum = [6971674.545323174, -3809589.511049945, 2621309.337175519, -1189687.893184274, 719819.4879466607, \n",
    "-230228.660839591, 107675.85822519343, -13820.464099942265, 3111.346303050515]\n",
    "x_extremum = [-26.646646158585888, -25.365243611004423, -20.34559413590408, -19.141940952460754, -14.028055991622466, \n",
    "-12.946352795340125, -7.650622284981447, -6.829042011620377, -1.3389666389621586]\n",
    "\n",
    "Функция возрастает на интервалах (-25.365243611004423, -20.34559413590408), (-19.141940952460754, -14.028055991622466), \n",
    "(-12.946352795340125, -7.650622284981447), (-6.829042011620377, -1.3389666389621586).\n",
    "\n",
    "Функция убывает на интервалах (-26.646646158585888, -25.365243611004423), (-20.34559413590408, -19.141940952460754),\n",
    "(-14.028055991622466, -12.946352795340125), (-7.650622284981447, -6.829042011620377)."
   ]
  },
  {
   "cell_type": "markdown",
   "id": "2982484b",
   "metadata": {},
   "source": [
    "п.6. Определить промежутки, на котором f > 0, на интервале x(-30,0);\n",
    "\n",
    "п.7. Определить промежутки, на котором f < 0, на интервале x(-30,0):"
   ]
  },
  {
   "cell_type": "markdown",
   "id": "d3fa44f6",
   "metadata": {},
   "source": [
    "Воспользовавшись списком корней и графиком функции, находим указанные промежутки:\n",
    "roots = [-29.89577967205675, -26.646646158585888, -23.626197296429577, -20.34559413590408, -17.366552506881845, \n",
    "-14.028055991622466, -11.133769061029177, -7.650622284981447, -5.026865928118676, -1.3389666389621586]\n",
    "\n",
    "f > 0 на промежутках (-29.89577967205675, -26.646646158585888), (-23.626197296429577, -20.34559413590408), \n",
    "(-17.366552506881845, -14.028055991622466), (-11.133769061029177, -7.650622284981447), \n",
    "(-5.026865928118676, -1.3389666389621586)\n",
    "\n",
    "f < 0 на промежутках (-26.646646158585888, -23.626197296429577), (-20.34559413590408, -17.366552506881845),\n",
    "(-14.028055991622466, -11.133769061029177), (-7.650622284981447, -5.026865928118676)"
   ]
  }
 ],
 "metadata": {
  "kernelspec": {
   "display_name": "Python 3 (ipykernel)",
   "language": "python",
   "name": "python3"
  },
  "language_info": {
   "codemirror_mode": {
    "name": "ipython",
    "version": 3
   },
   "file_extension": ".py",
   "mimetype": "text/x-python",
   "name": "python",
   "nbconvert_exporter": "python",
   "pygments_lexer": "ipython3",
   "version": "3.9.12"
  }
 },
 "nbformat": 4,
 "nbformat_minor": 5
}
